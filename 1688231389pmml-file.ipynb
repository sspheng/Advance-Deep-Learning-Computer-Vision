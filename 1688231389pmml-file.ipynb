{
 "cells": [
  {
   "cell_type": "markdown",
   "id": "69e05c24",
   "metadata": {},
   "source": [
    "## My New Youtube Channel for AI (ML/DL/RL)\n",
    "\n",
    "https://www.youtube.com/@guardiancoder"
   ]
  },
  {
   "cell_type": "code",
   "execution_count": 4,
   "id": "cbcf1429",
   "metadata": {},
   "outputs": [],
   "source": [
    "from pypmml import Model\n",
    "\n",
    "#language independent\n",
    "#Java\n",
    "#R\n"
   ]
  },
  {
   "cell_type": "code",
   "execution_count": 5,
   "id": "cadd3bbb",
   "metadata": {},
   "outputs": [],
   "source": [
    "\n",
    "model = Model.fromFile('linearregression.pmml')"
   ]
  },
  {
   "cell_type": "code",
   "execution_count": 11,
   "id": "fa224ecc",
   "metadata": {},
   "outputs": [
    {
     "data": {
      "text/plain": [
       "['age', 'salary', 'car_location']"
      ]
     },
     "execution_count": 11,
     "metadata": {},
     "output_type": "execute_result"
    }
   ],
   "source": [
    "model.inputNames"
   ]
  },
  {
   "cell_type": "code",
   "execution_count": 12,
   "id": "228b474f",
   "metadata": {},
   "outputs": [],
   "source": [
    "\n",
    "result = model.predict({\n",
    "    \"age\" : 5,\n",
    "    \"salary\" : 3,\n",
    "    \"car_location\" : \"street\"  \n",
    "})"
   ]
  },
  {
   "cell_type": "code",
   "execution_count": 13,
   "id": "d18c980e",
   "metadata": {},
   "outputs": [
    {
     "data": {
      "text/plain": [
       "{'predicted_number_of_claims': 492.92999999999995}"
      ]
     },
     "execution_count": 13,
     "metadata": {},
     "output_type": "execute_result"
    }
   ],
   "source": [
    "\n",
    "result"
   ]
  }
 ],
 "metadata": {
  "kernelspec": {
   "display_name": "Python 3 (ipykernel)",
   "language": "python",
   "name": "python3"
  },
  "language_info": {
   "codemirror_mode": {
    "name": "ipython",
    "version": 3
   },
   "file_extension": ".py",
   "mimetype": "text/x-python",
   "name": "python",
   "nbconvert_exporter": "python",
   "pygments_lexer": "ipython3",
   "version": "3.9.16"
  }
 },
 "nbformat": 4,
 "nbformat_minor": 5
}
