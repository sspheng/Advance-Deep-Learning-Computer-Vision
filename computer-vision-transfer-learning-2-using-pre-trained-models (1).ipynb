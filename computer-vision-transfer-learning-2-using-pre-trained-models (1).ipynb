{
 "cells": [
  {
   "cell_type": "markdown",
   "id": "2cbc19b0",
   "metadata": {},
   "source": [
    "## My New Youtube Channel for AI (ML/DL/RL)\n",
    "\n",
    "https://www.youtube.com/@guardiancoder\n",
    "\n",
    "\n",
    "#### Please Watch, Like and Subscribe"
   ]
  },
  {
   "cell_type": "markdown",
   "id": "cd1d1d37",
   "metadata": {},
   "source": [
    "-----------"
   ]
  },
  {
   "cell_type": "markdown",
   "id": "9d91db03",
   "metadata": {},
   "source": [
    "# KERAS APPLICATIONS"
   ]
  },
  {
   "cell_type": "markdown",
   "id": "1476a0f6",
   "metadata": {},
   "source": [
    "* https://keras.io/api/applications/\n",
    "* https://keras.io/api/layers/initializers/"
   ]
  },
  {
   "cell_type": "markdown",
   "id": "3b91b238",
   "metadata": {},
   "source": [
    "# Use Pre Trained Model (AS IS)"
   ]
  },
  {
   "cell_type": "code",
   "execution_count": 222,
   "id": "a17ee441",
   "metadata": {},
   "outputs": [],
   "source": [
    "\n",
    "from tensorflow.keras.applications.vgg16 import VGG16\n"
   ]
  },
  {
   "cell_type": "markdown",
   "id": "fe0e8476",
   "metadata": {},
   "source": [
    "The first time you run this example, Keras will download the weight files from the Internet and store them in the ~/.keras/models directory.\n",
    "\n"
   ]
  },
  {
   "cell_type": "code",
   "execution_count": 234,
   "id": "64424d32",
   "metadata": {},
   "outputs": [
    {
     "name": "stdout",
     "output_type": "stream",
     "text": [
      "Model: \"vgg16\"\n",
      "_________________________________________________________________\n",
      " Layer (type)                Output Shape              Param #   \n",
      "=================================================================\n",
      " input_33 (InputLayer)       [(None, 224, 224, 3)]     0         \n",
      "                                                                 \n",
      " block1_conv1 (Conv2D)       (None, 224, 224, 64)      1792      \n",
      "                                                                 \n",
      " block1_conv2 (Conv2D)       (None, 224, 224, 64)      36928     \n",
      "                                                                 \n",
      " block1_pool (MaxPooling2D)  (None, 112, 112, 64)      0         \n",
      "                                                                 \n",
      " block2_conv1 (Conv2D)       (None, 112, 112, 128)     73856     \n",
      "                                                                 \n",
      " block2_conv2 (Conv2D)       (None, 112, 112, 128)     147584    \n",
      "                                                                 \n",
      " block2_pool (MaxPooling2D)  (None, 56, 56, 128)       0         \n",
      "                                                                 \n",
      " block3_conv1 (Conv2D)       (None, 56, 56, 256)       295168    \n",
      "                                                                 \n",
      " block3_conv2 (Conv2D)       (None, 56, 56, 256)       590080    \n",
      "                                                                 \n",
      " block3_conv3 (Conv2D)       (None, 56, 56, 256)       590080    \n",
      "                                                                 \n",
      " block3_pool (MaxPooling2D)  (None, 28, 28, 256)       0         \n",
      "                                                                 \n",
      " block4_conv1 (Conv2D)       (None, 28, 28, 512)       1180160   \n",
      "                                                                 \n",
      " block4_conv2 (Conv2D)       (None, 28, 28, 512)       2359808   \n",
      "                                                                 \n",
      " block4_conv3 (Conv2D)       (None, 28, 28, 512)       2359808   \n",
      "                                                                 \n",
      " block4_pool (MaxPooling2D)  (None, 14, 14, 512)       0         \n",
      "                                                                 \n",
      " block5_conv1 (Conv2D)       (None, 14, 14, 512)       2359808   \n",
      "                                                                 \n",
      " block5_conv2 (Conv2D)       (None, 14, 14, 512)       2359808   \n",
      "                                                                 \n",
      " block5_conv3 (Conv2D)       (None, 14, 14, 512)       2359808   \n",
      "                                                                 \n",
      " block5_pool (MaxPooling2D)  (None, 7, 7, 512)         0         \n",
      "                                                                 \n",
      " flatten (Flatten)           (None, 25088)             0         \n",
      "                                                                 \n",
      " fc1 (Dense)                 (None, 4096)              102764544 \n",
      "                                                                 \n",
      " fc2 (Dense)                 (None, 4096)              16781312  \n",
      "                                                                 \n",
      " predictions (Dense)         (None, 1000)              4097000   \n",
      "                                                                 \n",
      "=================================================================\n",
      "Total params: 138,357,544\n",
      "Trainable params: 138,357,544\n",
      "Non-trainable params: 0\n",
      "_________________________________________________________________\n",
      "None\n"
     ]
    }
   ],
   "source": [
    "\n",
    "model = VGG16()\n",
    "\n",
    "print(model.summary())"
   ]
  },
  {
   "cell_type": "code",
   "execution_count": null,
   "id": "81e123dd",
   "metadata": {},
   "outputs": [],
   "source": []
  },
  {
   "cell_type": "markdown",
   "id": "4358c7dd",
   "metadata": {},
   "source": [
    " fc1 (Dense)         ------------           (None, 4096)         --------------        102764544 \n"
   ]
  },
  {
   "cell_type": "code",
   "execution_count": 235,
   "id": "c3e8f4a2",
   "metadata": {},
   "outputs": [
    {
     "data": {
      "text/plain": [
       "102764544"
      ]
     },
     "execution_count": 235,
     "metadata": {},
     "output_type": "execute_result"
    }
   ],
   "source": [
    "((7* 7* 512)*4096) + 4096"
   ]
  },
  {
   "cell_type": "code",
   "execution_count": null,
   "id": "ebf4ef97",
   "metadata": {},
   "outputs": [],
   "source": []
  },
  {
   "cell_type": "code",
   "execution_count": 236,
   "id": "5072c89f",
   "metadata": {},
   "outputs": [
    {
     "data": {
      "image/png": "[encoded data removed]",
      "text/plain": [
       "<IPython.core.display.Image object>"
      ]
     },
     "execution_count": 236,
     "metadata": {},
     "output_type": "execute_result"
    }
   ],
   "source": [
    "\n",
    "from keras.utils.vis_utils import plot_model\n",
    "\n",
    "\n",
    "plot_model(model, to_file='vgg.png')\n",
    "\n"
   ]
  },
  {
   "cell_type": "markdown",
   "id": "8701f4d6",
   "metadata": {},
   "source": [
    "# Data Prep"
   ]
  },
  {
   "cell_type": "code",
   "execution_count": 256,
   "id": "b1553984",
   "metadata": {},
   "outputs": [],
   "source": [
    "\n",
    "\n",
    "from tensorflow.keras.utils import load_img, img_to_array\n",
    "\n",
    "from tensorflow.keras.applications.vgg16 import preprocess_input\n",
    "\n",
    "\n"
   ]
  },
  {
   "cell_type": "code",
   "execution_count": 257,
   "id": "513e55f1",
   "metadata": {},
   "outputs": [
    {
     "data": {
      "text/plain": [
       "array([[[207., 187., 162.],\n",
       "        [207., 187., 163.],\n",
       "        [198., 180., 160.],\n",
       "        ...,\n",
       "        [231., 217., 180.],\n",
       "        [238., 224., 187.],\n",
       "        [228., 212., 176.]],\n",
       "\n",
       "       [[201., 185., 160.],\n",
       "        [207., 191., 168.],\n",
       "        [196., 179., 159.],\n",
       "        ...,\n",
       "        [222., 210., 172.],\n",
       "        [221., 209., 171.],\n",
       "        [225., 211., 174.]],\n",
       "\n",
       "       [[227., 215., 191.],\n",
       "        [191., 176., 153.],\n",
       "        [173., 158., 137.],\n",
       "        ...,\n",
       "        [203., 194., 155.],\n",
       "        [224., 215., 176.],\n",
       "        [208., 196., 158.]],\n",
       "\n",
       "       ...,\n",
       "\n",
       "       [[165., 146., 129.],\n",
       "        [222., 183., 166.],\n",
       "        [237., 199., 178.],\n",
       "        ...,\n",
       "        [215., 199., 174.],\n",
       "        [188., 172., 146.],\n",
       "        [179., 164., 133.]],\n",
       "\n",
       "       [[150., 133., 113.],\n",
       "        [177., 140., 122.],\n",
       "        [205., 168., 150.],\n",
       "        ...,\n",
       "        [208., 192., 167.],\n",
       "        [161., 145., 119.],\n",
       "        [222., 207., 176.]],\n",
       "\n",
       "       [[110.,  95.,  74.],\n",
       "        [144., 108.,  94.],\n",
       "        [180., 142., 129.],\n",
       "        ...,\n",
       "        [205., 189., 164.],\n",
       "        [187., 171., 145.],\n",
       "        [181., 166., 135.]]], dtype=float32)"
      ]
     },
     "execution_count": 257,
     "metadata": {},
     "output_type": "execute_result"
    }
   ],
   "source": [
    "\n",
    "# load an image from file\n",
    "image = load_img('dog.jpeg', target_size=(224, 224))\n",
    "\n",
    "# convert the image pixels to a numpy array\n",
    "image = img_to_array(image)\n",
    "\n",
    "image"
   ]
  },
  {
   "cell_type": "code",
   "execution_count": 258,
   "id": "49ff3e32",
   "metadata": {},
   "outputs": [
    {
     "data": {
      "text/plain": [
       "(224, 224, 3)"
      ]
     },
     "execution_count": 258,
     "metadata": {},
     "output_type": "execute_result"
    }
   ],
   "source": [
    "image.shape"
   ]
  },
  {
   "cell_type": "code",
   "execution_count": 259,
   "id": "7328f6aa",
   "metadata": {},
   "outputs": [],
   "source": [
    "\n",
    "# reshape data for the model\n",
    "image = image.reshape((1, image.shape[0], image.shape[1], image.shape[2]))\n",
    "\n",
    "# prepare the image for the VGG model\n",
    "image = preprocess_input(image)\n"
   ]
  },
  {
   "cell_type": "markdown",
   "id": "3ed9933d",
   "metadata": {},
   "source": [
    "(1, image.shape[0], image.shape[1], image.shape[2]): This is the desired shape for the array. In this case, the array is being reshaped to have dimensions (1, height, width, channels).\n",
    "\n",
    "1: This represents the batch size. By adding an extra dimension with size 1, we are effectively creating a batch of one image.\n",
    "\n",
    "image.shape[0]: This represents the height of the image, preserving the original height from the image array.\n",
    "\n",
    "image.shape[1]: This represents the width of the image, preserving the original width from the image array.\n",
    "\n",
    "image.shape[2]: This represents the number of channels in the image, preserving the original number of channels from the image array. This could be 1 for grayscale images or 3 for RGB images."
   ]
  },
  {
   "cell_type": "code",
   "execution_count": 260,
   "id": "54d4ab35",
   "metadata": {},
   "outputs": [
    {
     "data": {
      "text/plain": [
       "(1, 224, 224, 3)"
      ]
     },
     "execution_count": 260,
     "metadata": {},
     "output_type": "execute_result"
    }
   ],
   "source": [
    "image.shape"
   ]
  },
  {
   "cell_type": "markdown",
   "id": "231f1ddf",
   "metadata": {},
   "source": [
    "# define the model"
   ]
  },
  {
   "cell_type": "code",
   "execution_count": 261,
   "id": "cdb78bd2",
   "metadata": {},
   "outputs": [],
   "source": [
    "\n",
    "\n",
    "model = VGG16()\n",
    "\n",
    "#imagenet data -- 1000 classes\n"
   ]
  },
  {
   "cell_type": "code",
   "execution_count": 262,
   "id": "8364562b",
   "metadata": {},
   "outputs": [
    {
     "name": "stdout",
     "output_type": "stream",
     "text": [
      "1/1 [==============================] - 0s 488ms/step\n"
     ]
    },
    {
     "data": {
      "text/plain": [
       "array([[1.66008874e-07, 9.97113432e-08, 2.96097511e-07, 2.67804552e-07,\n",
       "        1.02976503e-06, 3.28556865e-07, 2.17557727e-07, 8.23669416e-06,\n",
       "        5.86880924e-06, 7.40113592e-07, 1.02812280e-07, 1.62104357e-07,\n",
       "        1.88525235e-07, 1.96122741e-07, 8.26164467e-07, 3.51851440e-06,\n",
       "        1.30165247e-07, 1.60356967e-06, 8.71319571e-07, 9.25965935e-08,\n",
       "        1.12330326e-07, 3.62784192e-07, 5.43113458e-07, 1.37673385e-06,\n",
       "        4.00535498e-07, 2.12144914e-06, 2.03192531e-06, 2.31136141e-06,\n",
       "        2.63117727e-06, 6.92839876e-07, 1.53520219e-07, 4.25614644e-07,\n",
       "        2.97003083e-07, 2.09891311e-07, 2.22353407e-07, 2.61037400e-07,\n",
       "        2.99760160e-07, 2.11239262e-06, 4.37331323e-07, 3.44379799e-07,\n",
       "        7.20614764e-07, 5.39758219e-07, 4.64987465e-07, 2.11095951e-07,\n",
       "        8.06367780e-07, 2.07707316e-07, 7.90162176e-07, 3.35637651e-07,\n",
       "        2.17320689e-07, 3.67307450e-07, 9.06004800e-07, 3.56702230e-07,\n",
       "        3.00622446e-07, 8.87625674e-07, 9.27210635e-07, 3.23461506e-07,\n",
       "        5.93329901e-07, 3.55163564e-07, 9.75162720e-07, 9.25910797e-07,\n",
       "        7.52988512e-07, 1.01171281e-06, 4.38395347e-07, 5.46838862e-07,\n",
       "        4.72363098e-07, 9.42414033e-07, 3.16401525e-07, 5.38486233e-07,\n",
       "        1.84313009e-07, 2.54268642e-08, 1.97319494e-07, 3.54670050e-07,\n",
       "        1.98512453e-06, 2.17811726e-06, 9.40776090e-07, 3.16688926e-07,\n",
       "        3.51653000e-07, 3.47524320e-07, 3.83139195e-07, 3.65010283e-06,\n",
       "        3.89948099e-07, 2.42954084e-08, 1.51148402e-06, 6.39338850e-07,\n",
       "        2.66674874e-06, 2.24539872e-06, 8.70588622e-07, 2.11846796e-07,\n",
       "        7.01131853e-07, 7.99052771e-08, 8.69829250e-07, 1.12059411e-07,\n",
       "        1.62904357e-07, 3.17233940e-07, 2.90631704e-07, 1.69147071e-07,\n",
       "        3.29337666e-07, 8.41857513e-07, 1.18757676e-07, 5.25594487e-07,\n",
       "        5.72109684e-07, 2.58386376e-06, 1.17163410e-07, 2.00693634e-07,\n",
       "        3.56853161e-06, 5.31914282e-07, 1.83711359e-06, 7.92476669e-07,\n",
       "        2.20226170e-07, 3.84054673e-08, 1.81446168e-07, 5.46674642e-07,\n",
       "        3.66136561e-07, 1.35140439e-07, 8.93408355e-07, 2.38365956e-07,\n",
       "        7.85053302e-08, 4.61850291e-08, 2.29765601e-06, 1.71629637e-07,\n",
       "        7.56317391e-08, 2.28067802e-06, 6.91644971e-07, 1.92414063e-06,\n",
       "        8.15350290e-07, 1.66814274e-07, 9.00516284e-08, 1.71881211e-07,\n",
       "        2.71789247e-07, 2.99491546e-07, 1.40636303e-07, 1.03115360e-06,\n",
       "        1.65544847e-07, 4.29092296e-07, 7.29755300e-07, 4.36073208e-07,\n",
       "        4.93856032e-06, 1.05614549e-06, 2.56136474e-07, 2.18083287e-07,\n",
       "        1.92360389e-07, 1.31896030e-07, 2.72846762e-07, 7.81341612e-07,\n",
       "        8.55180460e-08, 2.77951841e-07, 4.45873773e-08, 1.66491645e-07,\n",
       "        9.53064671e-07, 4.29305729e-08, 9.51089930e-07, 7.09088927e-04,\n",
       "        1.33575077e-05, 3.88884700e-06, 1.16670526e-06, 4.79362961e-06,\n",
       "        5.96182099e-06, 1.72669352e-05, 1.52055519e-02, 3.47525836e-03,\n",
       "        4.65270932e-05, 1.93542492e-05, 1.68342285e-05, 1.05357915e-03,\n",
       "        2.68931477e-03, 1.35166377e-01, 8.23954295e-04, 6.32532232e-04,\n",
       "        5.49521344e-03, 2.53572562e-05, 2.40745809e-04, 1.66821541e-04,\n",
       "        2.48496654e-04, 3.77687131e-04, 9.31446193e-05, 1.94137363e-04,\n",
       "        1.42349827e-03, 1.71592250e-03, 2.30268948e-03, 4.51714703e-04,\n",
       "        3.10487556e-03, 2.01415933e-05, 7.47485727e-04, 7.35241192e-05,\n",
       "        2.72256904e-03, 3.49134461e-05, 4.85212695e-05, 1.08321510e-04,\n",
       "        5.13259554e-04, 2.08364436e-04, 6.25492203e-06, 3.65774659e-03,\n",
       "        2.53923226e-05, 6.86774554e-04, 5.63104322e-06, 4.74747685e-05,\n",
       "        2.22263116e-04, 2.35738279e-03, 9.42155311e-04, 4.34181784e-05,\n",
       "        1.67521823e-04, 9.47268127e-05, 1.48966239e-04, 8.77971688e-05,\n",
       "        3.62017795e-06, 7.93901505e-04, 3.45012639e-04, 2.32347244e-04,\n",
       "        4.42670099e-03, 8.63877591e-04, 1.34040916e-03, 2.03015120e-03,\n",
       "        7.84994685e-04, 5.43313986e-03, 9.24761035e-03, 2.14481202e-04,\n",
       "        4.56668386e-05, 3.95306633e-05, 8.94987679e-05, 8.56155239e-05,\n",
       "        1.08025946e-04, 5.76081256e-05, 2.20135989e-04, 5.37514978e-04,\n",
       "        4.02707024e-04, 5.14284824e-04, 1.26463390e-04, 1.94390446e-01,\n",
       "        1.31777369e-05, 1.94606346e-05, 3.74604824e-05, 1.12733374e-04,\n",
       "        1.58752897e-04, 6.05989771e-05, 1.68623641e-01, 7.06856779e-04,\n",
       "        3.54191154e-01, 3.81500162e-02, 1.27422076e-03, 1.23446662e-04,\n",
       "        9.30029619e-03, 9.30684386e-04, 4.68080580e-05, 4.65740632e-05,\n",
       "        2.43585149e-04, 2.04023809e-06, 4.09490778e-04, 3.92917900e-06,\n",
       "        7.86102610e-05, 7.91010389e-05, 6.79913064e-05, 2.68374599e-04,\n",
       "        6.80263256e-05, 3.59051803e-04, 5.68877658e-06, 1.12600719e-05,\n",
       "        7.25984792e-05, 1.28232612e-04, 1.54340996e-05, 7.30680540e-06,\n",
       "        1.88598078e-05, 1.26148816e-05, 3.10199131e-04, 1.36470817e-05,\n",
       "        2.69195498e-05, 1.75021396e-05, 1.45527438e-05, 1.67256425e-04,\n",
       "        7.21457822e-04, 4.91022547e-05, 2.40275585e-05, 1.53644742e-05,\n",
       "        7.71309133e-05, 3.74288484e-03, 6.21498548e-05, 4.08874585e-05,\n",
       "        1.51483127e-05, 7.91712182e-07, 1.34423783e-06, 2.08508126e-07,\n",
       "        9.52365554e-06, 8.49046273e-07, 9.30230840e-07, 1.15226676e-07,\n",
       "        4.69773653e-07, 7.40589849e-06, 1.85331351e-06, 1.78158189e-06,\n",
       "        8.11511143e-07, 1.65466091e-07, 6.12147551e-06, 6.56486145e-06,\n",
       "        7.88579769e-07, 3.38095151e-06, 6.73635350e-06, 5.28997371e-05,\n",
       "        6.56051384e-07, 5.64530865e-06, 7.71263444e-07, 4.53972660e-07,\n",
       "        6.03886235e-07, 5.72079671e-07, 1.44823900e-06, 2.34641348e-07,\n",
       "        9.45374666e-07, 4.70698382e-07, 7.65953644e-07, 2.75054134e-07,\n",
       "        1.16638766e-07, 1.51023258e-07, 4.74578798e-07, 1.48448862e-06,\n",
       "        1.52597067e-06, 6.29847762e-07, 1.67100654e-06, 5.38964514e-07,\n",
       "        8.06838614e-07, 1.16407953e-07, 4.36620383e-07, 4.96244240e-07,\n",
       "        1.86856468e-07, 4.72985647e-07, 6.70885498e-08, 2.22465189e-07,\n",
       "        3.53972425e-08, 8.48495461e-08, 8.53366942e-08, 2.96412395e-06,\n",
       "        9.87320732e-08, 3.13150764e-07, 1.54717654e-07, 6.67111408e-07,\n",
       "        3.08374766e-08, 5.51856481e-08, 1.14007044e-07, 5.66132314e-07,\n",
       "        1.02639270e-07, 1.02226828e-07, 4.75080554e-07, 1.58134480e-05,\n",
       "        2.33253286e-06, 3.40043403e-06, 4.62496064e-06, 1.14823160e-06,\n",
       "        1.07683115e-06, 9.86960276e-06, 2.91946544e-05, 2.82459973e-06,\n",
       "        1.02630365e-05, 3.99521696e-06, 1.03115553e-06, 6.44606280e-06,\n",
       "        3.36849939e-06, 2.14678971e-06, 1.44939543e-06, 4.55343479e-06,\n",
       "        6.56669840e-07, 2.69783726e-07, 4.67746759e-07, 4.03732770e-07,\n",
       "        7.67028212e-07, 3.01878202e-07, 2.68133448e-07, 1.81143344e-06,\n",
       "        1.11969889e-07, 8.04647016e-07, 2.83179162e-07, 1.60704042e-06,\n",
       "        2.96530146e-07, 1.23548568e-06, 3.16878669e-07, 1.72519151e-06,\n",
       "        5.06450624e-06, 3.11072256e-07, 6.07753748e-07, 3.08890577e-07,\n",
       "        1.95880290e-07, 4.98452607e-07, 1.36279311e-06, 1.55895890e-07,\n",
       "        1.23543509e-06, 1.04411777e-06, 4.70771113e-07, 1.22807279e-07,\n",
       "        3.39662705e-07, 2.50554194e-06, 9.35426158e-07, 1.06364439e-06,\n",
       "        2.04542502e-07, 5.26522626e-07, 1.23690756e-06, 9.89452474e-07,\n",
       "        1.30266201e-07, 1.02885352e-07, 1.28895294e-06, 6.61764034e-07,\n",
       "        9.05298734e-08, 2.13020016e-07, 7.07818003e-07, 1.01648220e-05,\n",
       "        8.37860739e-07, 1.34947459e-06, 5.16989644e-07, 1.49143972e-07,\n",
       "        1.57036339e-07, 2.66705285e-07, 1.77326751e-06, 1.34423783e-06,\n",
       "        1.53733396e-07, 1.22598167e-05, 2.99191214e-07, 6.96808775e-06,\n",
       "        3.65539086e-06, 2.54901829e-06, 2.97235010e-06, 4.63179077e-07,\n",
       "        1.68407223e-06, 1.44844614e-06, 1.26797588e-07, 2.40793099e-07,\n",
       "        3.76743515e-06, 6.42023952e-06, 7.15433828e-07, 3.42434305e-06,\n",
       "        1.18769628e-06, 2.06542099e-05, 7.15959732e-06, 2.11175902e-05,\n",
       "        7.29932217e-05, 6.81052234e-06, 2.26374550e-06, 1.40012503e-06,\n",
       "        5.80178835e-07, 1.82289011e-06, 2.76403644e-05, 3.54814028e-06,\n",
       "        3.45762601e-07, 6.71436965e-07, 6.91767013e-07, 1.94581753e-06,\n",
       "        1.48853123e-05, 1.28732279e-06, 6.31503963e-06, 8.47629678e-07,\n",
       "        2.91445963e-06, 1.85403655e-06, 3.10793524e-07, 1.45295917e-06,\n",
       "        2.42520969e-06, 6.18718741e-06, 7.13066811e-07, 5.96189511e-06,\n",
       "        1.45190779e-06, 1.43751151e-06, 3.47702979e-07, 1.46935440e-06,\n",
       "        2.19703725e-06, 1.60973377e-06, 1.02769104e-06, 8.63770822e-07,\n",
       "        5.97470716e-06, 5.41226200e-07, 9.89077489e-06, 8.96975180e-05,\n",
       "        1.06943605e-06, 6.19074926e-05, 1.98669554e-07, 6.74612807e-07,\n",
       "        1.06486448e-06, 1.80882780e-05, 2.76778860e-06, 1.49027903e-06,\n",
       "        1.40995971e-05, 8.68238885e-07, 1.06536515e-06, 1.30744011e-05,\n",
       "        4.03674619e-07, 2.58153250e-07, 3.46638399e-06, 3.52910365e-06,\n",
       "        2.96262056e-06, 1.10722362e-06, 1.14702448e-06, 1.44657292e-06,\n",
       "        1.18283964e-07, 1.53241513e-06, 5.26797351e-07, 1.83266889e-06,\n",
       "        3.08786184e-06, 2.03386699e-05, 1.50757410e-06, 2.20450897e-06,\n",
       "        1.84593330e-06, 1.20250013e-06, 2.96078179e-06, 1.09599678e-05,\n",
       "        2.38927100e-06, 1.69189912e-06, 3.91881883e-07, 7.45213072e-07,\n",
       "        1.74924949e-07, 4.07446259e-06, 1.22769393e-06, 1.25667009e-06,\n",
       "        8.68646839e-06, 5.34147148e-06, 7.31309001e-07, 1.16909996e-06,\n",
       "        5.06211848e-07, 7.39296013e-07, 8.87704459e-07, 9.91321713e-07,\n",
       "        7.29653038e-07, 2.02980254e-06, 3.38357700e-06, 1.67423437e-04,\n",
       "        9.53858489e-07, 1.01738556e-06, 2.93250946e-06, 7.83523137e-06,\n",
       "        2.13492353e-06, 1.28239333e-06, 5.71045639e-05, 3.10024479e-05,\n",
       "        1.05763615e-06, 5.78553795e-07, 9.92330001e-07, 3.57267368e-07,\n",
       "        7.76515753e-06, 1.13022952e-06, 3.29237378e-06, 7.76489833e-06,\n",
       "        5.93827235e-06, 3.67668434e-07, 4.68482503e-05, 3.55401426e-07,\n",
       "        4.12149620e-06, 3.68867128e-04, 5.81659663e-07, 1.63861390e-04,\n",
       "        4.26563446e-07, 6.28861642e-07, 1.00667830e-06, 1.23501050e-05,\n",
       "        3.53994074e-06, 1.98886710e-06, 5.37644667e-07, 2.40013605e-07,\n",
       "        1.15537705e-06, 1.54461432e-07, 7.14781834e-07, 1.82285618e-07,\n",
       "        4.58061986e-05, 2.42219335e-06, 2.02978214e-07, 8.02788293e-07,\n",
       "        1.64134212e-06, 5.95885069e-07, 1.21155006e-06, 1.43613295e-06,\n",
       "        2.34265599e-06, 8.36403728e-07, 3.33989578e-06, 2.48403040e-07,\n",
       "        4.18904193e-07, 3.10258116e-07, 7.32828141e-07, 2.87111425e-06,\n",
       "        7.38490598e-07, 3.29540626e-07, 4.77953290e-06, 6.32021465e-06,\n",
       "        4.00586896e-06, 1.86228215e-06, 5.75306831e-06, 2.48713468e-06,\n",
       "        5.27057409e-06, 2.02980459e-06, 3.75358832e-06, 5.13756322e-06,\n",
       "        3.23053223e-06, 9.63177854e-07, 4.21147405e-07, 1.42716431e-06,\n",
       "        2.15050562e-07, 6.17046055e-07, 6.25243160e-07, 3.82104190e-06,\n",
       "        9.14205521e-06, 1.05141762e-05, 4.63912897e-07, 7.06446258e-07,\n",
       "        1.78735689e-07, 6.64187496e-07, 2.68563508e-06, 8.17717591e-07,\n",
       "        1.82295007e-05, 4.23491201e-06, 1.13460112e-06, 3.67053246e-07,\n",
       "        7.28841087e-06, 2.56668659e-06, 4.29991047e-07, 3.70483576e-05,\n",
       "        2.45896740e-06, 2.01141347e-06, 1.03112507e-06, 4.82164296e-06,\n",
       "        4.67368000e-06, 6.89543731e-06, 1.51941340e-05, 4.04453800e-07,\n",
       "        1.25284441e-06, 1.26607813e-06, 6.00430951e-07, 2.54712040e-06,\n",
       "        7.27542840e-07, 9.26350651e-07, 3.99413875e-06, 2.66987104e-06,\n",
       "        3.28032428e-07, 1.95134689e-05, 1.15102296e-06, 1.68269551e-07,\n",
       "        5.06260108e-07, 2.44896142e-07, 8.41928113e-07, 1.09851396e-06,\n",
       "        9.01570274e-07, 2.60962963e-07, 1.25643510e-06, 8.50823881e-07,\n",
       "        5.63714934e-07, 1.18448611e-06, 3.89948309e-06, 3.44818727e-06,\n",
       "        1.16218325e-06, 1.31197030e-05, 2.80538620e-06, 2.36165806e-06,\n",
       "        3.98390341e-07, 2.93155585e-06, 9.53844051e-07, 2.69275711e-06,\n",
       "        3.35765378e-07, 7.89002456e-07, 2.71459112e-06, 6.26714666e-07,\n",
       "        5.44994293e-07, 3.71861233e-07, 5.29682438e-07, 2.96752683e-06,\n",
       "        6.77623757e-06, 3.16770820e-05, 7.44139925e-07, 2.01208286e-06,\n",
       "        1.12547423e-06, 2.36399359e-07, 7.24230404e-07, 5.30430100e-07,\n",
       "        4.03129707e-06, 1.27241547e-05, 6.35644938e-07, 1.18575872e-06,\n",
       "        1.00802515e-06, 1.48537029e-05, 5.79718630e-07, 4.49174604e-06,\n",
       "        6.18438150e-07, 5.00003296e-07, 2.06757204e-06, 3.23408017e-06,\n",
       "        1.23340908e-06, 1.58685125e-07, 1.88825354e-07, 3.51139278e-07,\n",
       "        2.63102073e-03, 1.45997501e-06, 2.16976950e-05, 6.74012824e-07,\n",
       "        2.18342484e-06, 1.98502335e-07, 2.59491088e-07, 6.69641281e-07,\n",
       "        5.37538540e-07, 2.90158573e-06, 3.36764629e-07, 1.16835656e-06,\n",
       "        1.37589643e-06, 2.51035908e-06, 3.60802505e-06, 4.00381396e-06,\n",
       "        2.43845335e-07, 1.65683068e-05, 1.89645050e-07, 6.53643701e-06,\n",
       "        6.78983781e-07, 5.32033255e-06, 2.22282074e-06, 1.08804079e-06,\n",
       "        1.28938891e-05, 1.30883404e-06, 1.15882983e-06, 2.16613580e-06,\n",
       "        6.26860901e-06, 9.22821869e-07, 3.07239929e-06, 1.01118667e-05,\n",
       "        3.91032381e-06, 5.60416254e-07, 2.09231203e-07, 3.00844420e-07,\n",
       "        1.17770696e-07, 9.09661821e-07, 4.66397580e-07, 1.19071535e-06,\n",
       "        3.23503518e-05, 5.55540646e-06, 5.90565742e-06, 7.68302812e-07,\n",
       "        1.38049188e-07, 6.74176454e-06, 5.47735817e-06, 5.20559183e-07,\n",
       "        6.44158490e-07, 4.52642280e-06, 2.35225215e-07, 3.58892549e-07,\n",
       "        1.50205608e-06, 7.75021647e-07, 1.92408097e-05, 3.22607266e-05,\n",
       "        1.37794359e-06, 3.92559468e-06, 2.56207909e-06, 1.22440827e-06,\n",
       "        1.18564631e-05, 2.39409496e-06, 2.06649179e-06, 1.20109030e-06,\n",
       "        1.31052900e-06, 7.19258708e-07, 2.79046230e-06, 6.97265432e-06,\n",
       "        1.62546030e-07, 8.26754729e-07, 1.60830837e-06, 4.25397320e-06,\n",
       "        5.56535213e-07, 1.93120982e-07, 1.89185157e-05, 5.94389519e-07,\n",
       "        5.19753348e-06, 4.51456708e-06, 2.03146033e-06, 1.60159198e-06,\n",
       "        1.91438394e-05, 1.69510986e-06, 3.43783404e-06, 1.27613714e-06,\n",
       "        4.67387599e-06, 3.39099242e-05, 1.15418550e-06, 5.02950934e-06,\n",
       "        1.95006987e-06, 1.21855892e-05, 4.09888486e-07, 2.57053131e-07,\n",
       "        1.64321627e-05, 1.76554079e-06, 7.27937049e-07, 1.59620777e-06,\n",
       "        6.46172907e-07, 1.79031247e-06, 1.87406579e-06, 2.06044251e-06,\n",
       "        2.45560682e-06, 7.93907873e-07, 3.65881897e-06, 4.98410316e-07,\n",
       "        7.00647945e-07, 1.99117676e-06, 2.38945563e-06, 2.49640124e-07,\n",
       "        5.23776066e-07, 6.54381220e-05, 1.35905848e-05, 8.31885302e-07,\n",
       "        3.30928572e-07, 3.93681557e-06, 1.47242224e-06, 4.80497101e-06,\n",
       "        4.40538643e-05, 3.12904649e-06, 1.51459221e-06, 7.69099699e-07,\n",
       "        4.95722770e-06, 9.93285812e-06, 3.13727668e-07, 2.68465083e-05,\n",
       "        4.74432170e-07, 4.39912242e-07, 2.04498315e-06, 1.05829804e-06,\n",
       "        3.49391439e-06, 6.91949157e-04, 9.20136301e-07, 6.02231637e-07,\n",
       "        5.78086729e-05, 8.44213162e-07, 2.54417927e-07, 1.29551860e-04,\n",
       "        1.82990689e-07, 4.02206888e-06, 8.32422913e-08, 4.18503532e-06,\n",
       "        1.03218220e-07, 1.91989244e-07, 1.07267704e-06, 2.91196585e-07,\n",
       "        9.07840160e-07, 2.87422210e-07, 7.13378995e-07, 1.04626884e-06,\n",
       "        7.37104801e-06, 7.75118133e-06, 1.87077114e-06, 1.38262794e-05,\n",
       "        5.78269464e-06, 3.01824372e-07, 7.62758702e-07, 3.68164046e-06,\n",
       "        1.10351084e-06, 6.21558286e-07, 4.91182027e-06, 1.68105237e-06,\n",
       "        1.88878050e-06, 5.16776199e-05, 1.98386624e-06, 6.76449235e-06,\n",
       "        3.95727784e-06, 1.51944241e-05, 1.05383731e-06, 2.53730423e-06,\n",
       "        5.45501280e-07, 5.99224506e-07, 9.53730796e-06, 6.38404600e-08,\n",
       "        1.56232034e-06, 6.32130252e-07, 6.87722263e-07, 1.83681232e-06,\n",
       "        8.00953421e-04, 7.67971642e-07, 3.63364876e-07, 6.35134086e-07,\n",
       "        1.67150381e-06, 1.72001012e-06, 1.77250740e-07, 3.55314626e-07,\n",
       "        1.27472254e-06, 2.20544052e-06, 1.18405251e-06, 6.14527892e-07,\n",
       "        2.09102245e-06, 1.47555011e-06, 7.81149720e-06, 3.36914979e-07,\n",
       "        2.92983123e-06, 4.12282498e-06, 1.07060087e-05, 3.07082757e-07,\n",
       "        2.83702639e-06, 9.30344413e-07, 6.04416925e-07, 5.25517294e-07,\n",
       "        2.15233813e-05, 1.10823464e-06, 8.86986811e-07, 1.36649760e-05,\n",
       "        1.06719508e-05, 8.70229201e-07, 7.18538513e-06, 4.17718002e-06,\n",
       "        9.34366142e-07, 3.04997275e-06, 1.13237968e-06, 5.15133252e-07,\n",
       "        2.99963062e-06, 1.13973942e-06, 1.13352496e-06, 2.58834120e-07,\n",
       "        6.80813264e-06, 5.59775799e-07, 1.16516969e-06, 2.29663186e-07,\n",
       "        3.03874845e-06, 1.45387748e-05, 9.45358552e-05, 1.72463151e-05,\n",
       "        1.27453250e-05, 2.76741366e-06, 1.88013087e-06, 1.28344675e-06,\n",
       "        1.34659558e-05, 1.03190569e-05, 7.38591211e-07, 4.70585519e-06,\n",
       "        1.89624075e-07, 6.08905066e-06, 6.45918180e-06, 8.56071154e-07,\n",
       "        6.23736487e-05, 2.19877279e-06, 2.85596997e-07, 2.34580148e-06,\n",
       "        2.79956794e-06, 4.36253316e-07, 1.88741376e-06, 1.76532524e-06,\n",
       "        1.96601286e-06, 3.63112508e-06, 3.45483443e-07, 3.07876832e-07,\n",
       "        9.95589858e-07, 1.08377449e-07, 1.26943678e-06, 1.40312508e-07,\n",
       "        6.71879263e-08, 7.38492326e-06, 1.96050919e-07, 5.05083904e-07,\n",
       "        1.32781702e-06, 1.56248035e-07, 5.74166449e-07, 2.18168566e-07,\n",
       "        1.23925599e-06, 3.24327317e-07, 1.34189449e-07, 3.31276715e-06,\n",
       "        2.47928540e-07, 5.69085728e-07, 2.22873339e-07, 1.52565769e-06,\n",
       "        5.74170258e-07, 4.85174724e-07, 8.05978004e-07, 4.19350670e-07,\n",
       "        6.42628208e-07, 1.08286395e-06, 5.51089443e-07, 1.93162350e-06,\n",
       "        1.61128662e-06, 1.57526915e-06, 7.54293012e-07, 3.00391150e-07,\n",
       "        2.19469072e-07, 4.31822173e-07, 1.33573599e-06, 9.10715585e-07,\n",
       "        1.14947522e-06, 9.65393667e-08, 1.57240152e-07, 3.93455025e-07,\n",
       "        1.82102823e-07, 1.51165921e-07, 5.19162859e-06, 1.18271964e-06,\n",
       "        4.20947254e-06, 2.27949840e-07, 6.74921694e-07, 3.69203372e-06,\n",
       "        3.20256078e-07, 2.92483804e-07, 3.14235535e-07, 3.72674949e-05,\n",
       "        3.92560764e-07, 1.96992150e-05, 9.99499775e-07, 6.19082527e-07,\n",
       "        2.62409174e-07, 9.12743303e-07, 8.48309753e-07, 2.67500400e-06,\n",
       "        5.26411668e-07, 1.34386681e-07, 5.08556241e-07, 2.41780035e-05,\n",
       "        5.09855738e-07, 3.88138096e-06, 1.03717571e-06, 3.93790231e-07,\n",
       "        4.58307966e-07, 1.93622043e-07, 2.34556325e-07, 7.15598276e-07,\n",
       "        2.55614736e-07, 1.93510544e-07, 7.71569921e-06, 2.35735897e-05]],\n",
       "      dtype=float32)"
      ]
     },
     "execution_count": 262,
     "metadata": {},
     "output_type": "execute_result"
    }
   ],
   "source": [
    "\n",
    "# predict the probability across all output classes\n",
    "yhat = model.predict(image)\n",
    "\n",
    "yhat"
   ]
  },
  {
   "cell_type": "markdown",
   "id": "b1e80b96",
   "metadata": {},
   "source": [
    "# fetch the result"
   ]
  },
  {
   "cell_type": "code",
   "execution_count": 263,
   "id": "f91043f5",
   "metadata": {},
   "outputs": [
    {
     "data": {
      "text/plain": [
       "236"
      ]
     },
     "execution_count": 263,
     "metadata": {},
     "output_type": "execute_result"
    }
   ],
   "source": [
    "import numpy as np\n",
    "\n",
    "np.argmax(yhat)"
   ]
  },
  {
   "cell_type": "code",
   "execution_count": 264,
   "id": "c2f9792a",
   "metadata": {},
   "outputs": [],
   "source": [
    "#Doberman, Doberman pinscher\n"
   ]
  },
  {
   "cell_type": "markdown",
   "id": "7dea72c9",
   "metadata": {},
   "source": [
    "https://deeplearning.cms.waikato.ac.nz/user-guide/class-maps/IMAGENET/"
   ]
  },
  {
   "cell_type": "code",
   "execution_count": 265,
   "id": "f72c66d9",
   "metadata": {},
   "outputs": [
    {
     "data": {
      "text/plain": [
       "0.35419115"
      ]
     },
     "execution_count": 265,
     "metadata": {},
     "output_type": "execute_result"
    }
   ],
   "source": [
    "yhat[0][236]"
   ]
  },
  {
   "cell_type": "code",
   "execution_count": 266,
   "id": "3cd2f554",
   "metadata": {},
   "outputs": [],
   "source": [
    "from tensorflow.keras.applications.vgg16 import decode_predictions\n"
   ]
  },
  {
   "cell_type": "code",
   "execution_count": 59,
   "id": "843b71fb",
   "metadata": {},
   "outputs": [],
   "source": [
    "??decode_predictions\n"
   ]
  },
  {
   "cell_type": "code",
   "execution_count": 267,
   "id": "a1d493d2",
   "metadata": {},
   "outputs": [
    {
     "data": {
      "text/plain": [
       "[[('n02107142', 'Doberman', 0.35419115),\n",
       "  ('n02105412', 'kelpie', 0.19439045),\n",
       "  ('n02106550', 'Rottweiler', 0.16862364),\n",
       "  ('n02089078', 'black-and-tan_coonhound', 0.13516638),\n",
       "  ('n02107312', 'miniature_pinscher', 0.038150016)]]"
      ]
     },
     "execution_count": 267,
     "metadata": {},
     "output_type": "execute_result"
    }
   ],
   "source": [
    "\n",
    "# convert the probabilities to class labels\n",
    "\n",
    "#top 5 predictions\n",
    "\n",
    "label = decode_predictions(yhat)\n",
    "\n",
    "label"
   ]
  },
  {
   "cell_type": "code",
   "execution_count": 268,
   "id": "72b854c9",
   "metadata": {},
   "outputs": [
    {
     "data": {
      "text/plain": [
       "('n02107142', 'Doberman', 0.35419115)"
      ]
     },
     "execution_count": 268,
     "metadata": {},
     "output_type": "execute_result"
    }
   ],
   "source": [
    "# retrieve the most likely result, e.g. highest probability\n",
    "\n",
    "label = label[0][0]\n",
    "\n",
    "label"
   ]
  },
  {
   "cell_type": "code",
   "execution_count": 276,
   "id": "a9aee9dc",
   "metadata": {},
   "outputs": [
    {
     "name": "stdout",
     "output_type": "stream",
     "text": [
      "Output is --\n",
      "Doberman (35.42)\n"
     ]
    }
   ],
   "source": [
    "\n",
    "\n",
    "# print the classification\n",
    "print('Output is --\\n%s (%.2f)' % (label[1], label[2]*100))"
   ]
  },
  {
   "cell_type": "code",
   "execution_count": null,
   "id": "0ee26469",
   "metadata": {},
   "outputs": [],
   "source": []
  }
 ],
 "metadata": {
  "kernelspec": {
   "display_name": "Python 3 (ipykernel)",
   "language": "python",
   "name": "python3"
  },
  "language_info": {
   "codemirror_mode": {
    "name": "ipython",
    "version": 3
   },
   "file_extension": ".py",
   "mimetype": "text/x-python",
   "name": "python",
   "nbconvert_exporter": "python",
   "pygments_lexer": "ipython3",
   "version": "3.9.16"
  }
 },
 "nbformat": 4,
 "nbformat_minor": 5
}
