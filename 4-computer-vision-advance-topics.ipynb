{
 "cells": [
  {
   "cell_type": "markdown",
   "id": "f3f8a2e4",
   "metadata": {},
   "source": [
    "My New Youtube Channel for ML\n",
    "\n",
    "https://www.youtube.com/@guardiancoder"
   ]
  },
  {
   "cell_type": "code",
   "execution_count": null,
   "id": "88517aae",
   "metadata": {},
   "outputs": [],
   "source": []
  },
  {
   "cell_type": "markdown",
   "id": "eee69325",
   "metadata": {},
   "source": [
    "# Computer Vision Usecases\n"
   ]
  },
  {
   "cell_type": "code",
   "execution_count": null,
   "id": "5d276e20",
   "metadata": {},
   "outputs": [],
   "source": [
    " image classification - CNN model\n",
    "    MNSIT data --- \n",
    "\n",
    "\n",
    "\n",
    "\n"
   ]
  },
  {
   "cell_type": "code",
   "execution_count": null,
   "id": "fe43705c",
   "metadata": {},
   "outputs": [],
   "source": [
    "\n",
    "object detection and localization  -- CNN \n",
    "# Proper/real world images  (imagenet)  \n",
    "\n",
    "\n",
    "https://www.image-net.org/download.php\n",
    "    https://www.kaggle.com/c/imagenet-object-localization-challenge/overview/description\n",
    "        https://www.kaggle.com/competitions/imagenet-object-localization-challenge/data\n",
    "            \n",
    "            "
   ]
  },
  {
   "cell_type": "code",
   "execution_count": null,
   "id": "8c49a16a",
   "metadata": {},
   "outputs": [],
   "source": [
    "https://wordnet.princeton.edu/\n",
    "    "
   ]
  },
  {
   "cell_type": "code",
   "execution_count": null,
   "id": "738a130e",
   "metadata": {},
   "outputs": [],
   "source": [
    "siamese networks\n"
   ]
  },
  {
   "cell_type": "code",
   "execution_count": null,
   "id": "43b791b0",
   "metadata": {},
   "outputs": [],
   "source": [
    "GANs"
   ]
  },
  {
   "cell_type": "code",
   "execution_count": null,
   "id": "5314bdc6",
   "metadata": {},
   "outputs": [],
   "source": [
    "https://deepfakesweb.com/ \n",
    "    \n",
    "    "
   ]
  },
  {
   "cell_type": "code",
   "execution_count": null,
   "id": "f8f43917",
   "metadata": {},
   "outputs": [],
   "source": [
    "https://www.autodraw.com/\n",
    "    \n",
    "    \n",
    "    "
   ]
  },
  {
   "cell_type": "code",
   "execution_count": null,
   "id": "e484f827",
   "metadata": {},
   "outputs": [],
   "source": [
    "https://openai.com/research/image-gpt\n",
    "    "
   ]
  },
  {
   "cell_type": "code",
   "execution_count": null,
   "id": "f1c30a62",
   "metadata": {},
   "outputs": [],
   "source": [
    "DALL E (2)\n",
    "\n",
    "https://labs.openai.com/"
   ]
  },
  {
   "cell_type": "code",
   "execution_count": null,
   "id": "0c670c9c",
   "metadata": {},
   "outputs": [],
   "source": [
    "The name DALL-E is a blend of Salvador Dali, the famous artist, and Pixar's WALL-E movie\n"
   ]
  },
  {
   "cell_type": "markdown",
   "id": "563a617a",
   "metadata": {},
   "source": [
    "DALL-E (stylized as DALL·E) and DALL-E 2 are deep learning models developed by OpenAI to generate digital images from natural language descriptions, called \"prompts\". \n",
    "\n",
    "DALL-E was revealed by OpenAI in a blog post in January 2021, and uses a version of GPT-3 modified to generate images.\n",
    "\n",
    "In April 2022, OpenAI announced DALL-E 2, a successor designed to generate more realistic images at higher resolutions that \"can combine concepts, attributes, and styles\".\n"
   ]
  },
  {
   "cell_type": "code",
   "execution_count": null,
   "id": "40356636",
   "metadata": {},
   "outputs": [],
   "source": [
    "Adobe Photoshop - Generative Editing Features"
   ]
  },
  {
   "cell_type": "code",
   "execution_count": null,
   "id": "03233f78",
   "metadata": {},
   "outputs": [],
   "source": [
    "Auto compose features -- video editing\n",
    "\n"
   ]
  },
  {
   "cell_type": "code",
   "execution_count": null,
   "id": "66e54f86",
   "metadata": {},
   "outputs": [],
   "source": [
    "Virtual Influencers/Models for Ads/Digital Marketing\n"
   ]
  }
 ],
 "metadata": {
  "kernelspec": {
   "display_name": "Python 3 (ipykernel)",
   "language": "python",
   "name": "python3"
  },
  "language_info": {
   "codemirror_mode": {
    "name": "ipython",
    "version": 3
   },
   "file_extension": ".py",
   "mimetype": "text/x-python",
   "name": "python",
   "nbconvert_exporter": "python",
   "pygments_lexer": "ipython3",
   "version": "3.9.16"
  }
 },
 "nbformat": 4,
 "nbformat_minor": 5
}
